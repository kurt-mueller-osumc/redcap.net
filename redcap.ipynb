{
 "cells": [
  {
   "cell_type": "code",
   "execution_count": 1,
   "metadata": {},
   "source": [
    "#!fsharp\n",
    "#r \"nuget: FSharp.Data\"\n",
    "#load \"src/Api/Library.fs\"\n",
    "\n",
    "open FSharp.Data\n",
    "open System\n",
    "open Api"
   ],
   "outputs": []
  },
  {
   "cell_type": "code",
   "execution_count": 1,
   "metadata": {},
   "source": [
    "#!fsharp\n",
    "let patientTrackerPath = __SOURCE_DIRECTORY__ + \"/\" + \"OPTCCPCancerTracker_DATA_2020-11-23_1144.csv\"\n",
    "let patientTrackerCsv = CsvFile.Load(patientTrackerPath).Cache()"
   ],
   "outputs": [
    {
     "output_type": "execute_result",
     "data": {
      "text/html": "<table><thead><tr><th>Rows</th><th>Headers</th><th>NumberOfColumns</th><th>Separators</th><th>Quote</th></tr></thead><tbody><tr><td><div class=\"dni-plaintext\">[ FSharp.Data.CsvRow, FSharp.Data.CsvRow, FSharp.Data.CsvRow, FSharp.Data.CsvRow, FSharp.Data.CsvRow, FSharp.Data.CsvRow, FSharp.Data.CsvRow, FSharp.Data.CsvRow, FSharp.Data.CsvRow, FSharp.Data.CsvRow, FSharp.Data.CsvRow, FSharp.Data.CsvRow, FSharp.Data.CsvRow, FSharp.Data.CsvRow, FSharp.Data.CsvRow, FSharp.Data.CsvRow, FSharp.Data.CsvRow, FSharp.Data.CsvRow, FSharp.Data.CsvRow, FSharp.Data.CsvRow ... (41778 more) ]</div></td><td><div class=\"dni-plaintext\">Some(System.String[])</div></td><td><div class=\"dni-plaintext\">201</div></td><td><div class=\"dni-plaintext\">,</div></td><td><div class=\"dni-plaintext\">&quot;</div></td></tr></tbody></table>"
     },
     "execution_count": 1,
     "metadata": {}
    }
   ]
  },
  {
   "cell_type": "code",
   "execution_count": 1,
   "metadata": {},
   "source": [
    "#!fsharp\n",
    "let nonInteger input =\n",
    "    try\n",
    "        input |> int; None\n",
    "    with\n",
    "        | :? System.FormatException -> Some input\n",
    "\n",
    "let avatarIds =\n",
    "    patientTrackerCsv.Rows\n",
    "        |> Seq.map (fun row -> row.[\"mrn\"])\n",
    "        |> Seq.choose nonInteger\n",
    "        |> Seq.distinct\n",
    "\n",
    "avatarIds"
   ],
   "outputs": [
    {
     "output_type": "execute_result",
     "data": {
      "text/html": "<table><thead><tr><th><i>index</i></th><th>value</th></tr></thead><tbody><tr><td>0</td><td><div class=\"dni-plaintext\">Withdrawn</div></td></tr></tbody></table>"
     },
     "execution_count": 1,
     "metadata": {}
    }
   ]
  }
 ],
 "metadata": {
  "kernelspec": {
   "display_name": ".NET (C#)",
   "language": "C#",
   "name": ".net-csharp"
  },
  "language_info": {
   "file_extension": ".cs",
   "mimetype": "text/x-csharp",
   "name": "C#",
   "pygments_lexer": "csharp",
   "version": "8.0"
  }
 },
 "nbformat": 4,
 "nbformat_minor": 4
}